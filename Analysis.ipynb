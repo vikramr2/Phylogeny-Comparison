{
 "cells": [
  {
   "cell_type": "markdown",
   "metadata": {},
   "source": [
    "# Analyzing Phylogeny Estimation Software on Aligned DNA Sequence Data\n",
    "\n",
    "## Data\n",
    "The estimated and true trees are in the `data/` folder of this repository. These were calculated from data described in <i>Liu et al., \"Rapid and Accurate Large-Scale Coestimation of Sequence Alignments and Phylogenetic Trees,\" Science, vol. 324, no. 5934, pp. 1561-1564, 19 June 2009.</i> You can access the original datasets [here](https://sites.google.com/eng.ucsd.edu/datasets/alignment/sate-i?authuser=0). To view the tools used to compute the trees from this data, visit the following links:\n",
    "- [FastTree](http://www.microbesonline.org/fasttree/#Install): FastTree+GTR, FastTree+JC69\n",
    "- [FastME](https://gite.lirmm.fr/atgc/FastME/): NJ+LogDet, NJ+JC69, NJ+P-Distances\n",
    "  \n",
    "Note that FastME will require sequence alignment data to be in Phylip format and the datasets linked above will be in FASTA format. To convert the data from FASTA to Phylip, refer to the `convert.py` script in this repository.\n",
    "  \n",
    "## Loading Required Modules and Functions\n",
    "For phylogenetic analysis, we will use dendropy along with a tree comparison function by Errin Molloy used for NJMerge. We will test out the module by calculation the false positive (FP) and negative (FN) rates between two arbitrary trees."
   ]
  },
  {
   "cell_type": "code",
   "execution_count": 1,
   "metadata": {},
   "outputs": [
    {
     "name": "stdout",
     "output_type": "stream",
     "text": [
      "4.20220511.00\n"
     ]
    }
   ],
   "source": [
    "import dendropy\n",
    "print(dendropy.__version__)"
   ]
  },
  {
   "cell_type": "code",
   "execution_count": 2,
   "metadata": {},
   "outputs": [],
   "source": [
    "tns = dendropy.TaxonNamespace()\n",
    "\n",
    "tree1 = dendropy.Tree.get(\n",
    "    path=\"data/1000M1/R0/fasttree/gtrFastTree.tree\", \n",
    "    schema=\"newick\",\n",
    "    taxon_namespace=tns\n",
    ")\n",
    "tree2 = dendropy.Tree.get(\n",
    "    path=\"data/1000M1/R0/rose.tt\", \n",
    "    schema=\"newick\",\n",
    "    taxon_namespace=tns\n",
    ")\n",
    "\n",
    "tree1.encode_bipartitions()\n",
    "tree2.encode_bipartitions()\n",
    "\n",
    "tree1.collapse_basal_bifurcation(set_as_unrooted_tree=True)\n",
    "tree2.collapse_basal_bifurcation(set_as_unrooted_tree=True)"
   ]
  },
  {
   "cell_type": "code",
   "execution_count": 3,
   "metadata": {},
   "outputs": [
    {
     "name": "stdout",
     "output_type": "stream",
     "text": [
      "(1000, 997, 996, 90, 91, 0.09081786251881585)\n"
     ]
    }
   ],
   "source": [
    "import compare_trees\n",
    "\n",
    "\n",
    "ct = compare_trees.compare_trees\n",
    "\n",
    "print(ct(tree1, tree2))"
   ]
  },
  {
   "cell_type": "markdown",
   "metadata": {},
   "source": [
    "## Defining an FP/FN Error Rate Function\n",
    "The above tuple contains (number of leaves, number of edges in tree 1, number of edges in tree 2, FP, FN, RF distance). So to get the FP/FN rates we simply divide FN and FP by the number of edges in tree 1."
   ]
  },
  {
   "cell_type": "code",
   "execution_count": 4,
   "metadata": {},
   "outputs": [
    {
     "name": "stdout",
     "output_type": "stream",
     "text": [
      "(0.09027081243731194, 0.09127382146439318)\n"
     ]
    }
   ],
   "source": [
    "def fpn_rate(t):\n",
    "    ''' Computes FP/FN rate given the tuple in the form above\n",
    "    \n",
    "    t:  tuple\n",
    "        (nl, e1, e2, fp, fn, rf)\n",
    "    '''\n",
    "    return (t[3]/t[1], t[4]/t[1])\n",
    "\n",
    "print(fpn_rate(ct(tree1, tree2)))"
   ]
  },
  {
   "cell_type": "markdown",
   "metadata": {},
   "source": [
    "## Calculating Error Rates\n",
    "The following snippets will loop through each calculated tree and compute a dictionary containing average FP/FN rates across each of the five replicates (R0-R4) for each dataset and method."
   ]
  },
  {
   "cell_type": "code",
   "execution_count": 5,
   "metadata": {},
   "outputs": [],
   "source": [
    "err = {\n",
    "    \"1000M1\": {\n",
    "        \"nj_logdet\": [],\n",
    "        \"nj_jc\": [],\n",
    "        \"nj_pdist\": [],\n",
    "        \"ft_gtr\": [],\n",
    "        \"ft_jc\": []\n",
    "    },\n",
    "    \"1000M4\": {\n",
    "        \"nj_logdet\": [],\n",
    "        \"nj_jc\": [],\n",
    "        \"nj_pdist\": [],\n",
    "        \"ft_gtr\": [],\n",
    "        \"ft_jc\": []\n",
    "    }\n",
    "}"
   ]
  },
  {
   "cell_type": "code",
   "execution_count": 6,
   "metadata": {},
   "outputs": [],
   "source": [
    "from os import listdir\n",
    "\n",
    "\n",
    "\n",
    "# Loop through each dataset and replicate\n",
    "for f in listdir(\"data/\"):\n",
    "    for g in listdir(f\"data/{f}\"):\n",
    "        # Load the true tree\n",
    "        true_tree = dendropy.Tree.get(\n",
    "            path=f\"data/{f}/{g}/rose.tt\", \n",
    "            schema=\"newick\",\n",
    "            rooting='force-unrooted',\n",
    "            taxon_namespace=tns\n",
    "        )\n",
    "        \n",
    "        # Load trees obtained from each method\n",
    "        nj_logdet_tree = dendropy.Tree.get(\n",
    "            path=f\"data/{f}/{g}/nj_logdet/rose.aln.true.phylip_fastme_tree.txt\", \n",
    "            schema=\"newick\",\n",
    "            rooting='force-unrooted',\n",
    "            taxon_namespace=tns\n",
    "        )\n",
    "        \n",
    "        nj_jc_tree = dendropy.Tree.get(\n",
    "            path=f\"data/{f}/{g}/nj_jc/rose.aln.true.phylip_fastme_tree.txt\", \n",
    "            schema=\"newick\",\n",
    "            rooting='force-unrooted',\n",
    "            taxon_namespace=tns\n",
    "        )\n",
    "        \n",
    "        nj_pdist_tree = dendropy.Tree.get(\n",
    "            path=f\"data/{f}/{g}/nj_pdist/rose.aln.true.phylip_fastme_tree.txt\", \n",
    "            schema=\"newick\",\n",
    "            rooting='force-unrooted',\n",
    "            taxon_namespace=tns\n",
    "        )\n",
    "        \n",
    "        ft_gtr_tree = dendropy.Tree.get(\n",
    "            path=f\"data/{f}/{g}/fasttree/gtrFastTree.tree\", \n",
    "            schema=\"newick\",\n",
    "            rooting='force-unrooted',\n",
    "            taxon_namespace=tns\n",
    "        )\n",
    "        \n",
    "        ft_jc_tree = dendropy.Tree.get(\n",
    "            path=f\"data/{f}/{g}/fasttree/jcFastTree.tree\", \n",
    "            schema=\"newick\",\n",
    "            rooting='force-unrooted',\n",
    "            taxon_namespace=tns\n",
    "        )\n",
    "        \n",
    "        # Gather bipartitions for FP/FN calculation\n",
    "        true_tree.encode_bipartitions()\n",
    "        nj_logdet_tree.encode_bipartitions()\n",
    "        nj_jc_tree.encode_bipartitions()\n",
    "        nj_pdist_tree.encode_bipartitions()\n",
    "        ft_gtr_tree.encode_bipartitions()\n",
    "        ft_jc_tree.encode_bipartitions()\n",
    "        \n",
    "        true_tree.collapse_basal_bifurcation(set_as_unrooted_tree=True)\n",
    "        nj_logdet_tree.collapse_basal_bifurcation(set_as_unrooted_tree=True)\n",
    "        nj_jc_tree.collapse_basal_bifurcation(set_as_unrooted_tree=True)\n",
    "        nj_pdist_tree.collapse_basal_bifurcation(set_as_unrooted_tree=True)\n",
    "        ft_gtr_tree.collapse_basal_bifurcation(set_as_unrooted_tree=True)\n",
    "        ft_jc_tree.collapse_basal_bifurcation(set_as_unrooted_tree=True)\n",
    "        \n",
    "        err_nj_logdet = ct(true_tree, nj_logdet_tree)\n",
    "        err_nj_jc = ct(true_tree, nj_jc_tree)\n",
    "        err_nj_pdist = ct(true_tree, nj_pdist_tree)\n",
    "        err_ft_gtr = ct(true_tree, ft_gtr_tree)\n",
    "        err_ft_jc = ct(true_tree, ft_jc_tree)\n",
    "        \n",
    "        # Add results to arrays stored in error dictionary\n",
    "        err[f][\"nj_logdet\"].append(fpn_rate(err_nj_logdet))\n",
    "        err[f][\"nj_jc\"].append(fpn_rate(err_nj_jc))\n",
    "        err[f][\"nj_pdist\"].append(fpn_rate(err_nj_pdist))\n",
    "        err[f][\"ft_gtr\"].append(fpn_rate(err_ft_gtr))\n",
    "        err[f][\"ft_jc\"].append(fpn_rate(err_ft_jc))"
   ]
  },
  {
   "cell_type": "code",
   "execution_count": 7,
   "metadata": {},
   "outputs": [],
   "source": [
    "def pairwise_mean(a):\n",
    "    ''' Return a tuple of columnwise averages\n",
    "    \n",
    "    a:  array\n",
    "        Array of tuples\n",
    "    '''\n",
    "    fir = sum([e[0] for e in a])\n",
    "    sec = sum([e[1] for e in a])\n",
    "    \n",
    "    return (round(fir/len(a), 3), round(sec/len(a), 3))\n",
    "\n",
    "# Take columnwise averages of arrays in the error dictionary\n",
    "for key in err:\n",
    "    for subkey in err[key]:\n",
    "        err[key][subkey] = pairwise_mean(err[key][subkey])"
   ]
  },
  {
   "cell_type": "markdown",
   "metadata": {},
   "source": [
    "## Visualization\n",
    "We will use Pandas to visualize the average (FP, FN) error rates for each dataset and method."
   ]
  },
  {
   "cell_type": "code",
   "execution_count": 8,
   "metadata": {},
   "outputs": [
    {
     "data": {
      "text/html": [
       "<div>\n",
       "<style scoped>\n",
       "    .dataframe tbody tr th:only-of-type {\n",
       "        vertical-align: middle;\n",
       "    }\n",
       "\n",
       "    .dataframe tbody tr th {\n",
       "        vertical-align: top;\n",
       "    }\n",
       "\n",
       "    .dataframe thead th {\n",
       "        text-align: right;\n",
       "    }\n",
       "</style>\n",
       "<table border=\"1\" class=\"dataframe\">\n",
       "  <thead>\n",
       "    <tr style=\"text-align: right;\">\n",
       "      <th></th>\n",
       "      <th>1000M1</th>\n",
       "      <th>1000M4</th>\n",
       "    </tr>\n",
       "  </thead>\n",
       "  <tbody>\n",
       "    <tr>\n",
       "      <th>nj_logdet</th>\n",
       "      <td>(0.213, 0.209)</td>\n",
       "      <td>(0.114, 0.084)</td>\n",
       "    </tr>\n",
       "    <tr>\n",
       "      <th>nj_jc</th>\n",
       "      <td>(0.226, 0.222)</td>\n",
       "      <td>(0.108, 0.078)</td>\n",
       "    </tr>\n",
       "    <tr>\n",
       "      <th>nj_pdist</th>\n",
       "      <td>(0.193, 0.189)</td>\n",
       "      <td>(0.127, 0.097)</td>\n",
       "    </tr>\n",
       "    <tr>\n",
       "      <th>ft_gtr</th>\n",
       "      <td>(0.11, 0.106)</td>\n",
       "      <td>(0.077, 0.047)</td>\n",
       "    </tr>\n",
       "    <tr>\n",
       "      <th>ft_jc</th>\n",
       "      <td>(0.129, 0.125)</td>\n",
       "      <td>(0.083, 0.053)</td>\n",
       "    </tr>\n",
       "  </tbody>\n",
       "</table>\n",
       "</div>"
      ],
      "text/plain": [
       "                   1000M1          1000M4\n",
       "nj_logdet  (0.213, 0.209)  (0.114, 0.084)\n",
       "nj_jc      (0.226, 0.222)  (0.108, 0.078)\n",
       "nj_pdist   (0.193, 0.189)  (0.127, 0.097)\n",
       "ft_gtr      (0.11, 0.106)  (0.077, 0.047)\n",
       "ft_jc      (0.129, 0.125)  (0.083, 0.053)"
      ]
     },
     "execution_count": 8,
     "metadata": {},
     "output_type": "execute_result"
    }
   ],
   "source": [
    "from pandas import DataFrame\n",
    "\n",
    "DataFrame.from_dict(err)"
   ]
  }
 ],
 "metadata": {
  "kernelspec": {
   "display_name": "covid_usa",
   "language": "python",
   "name": "covid_usa"
  },
  "language_info": {
   "codemirror_mode": {
    "name": "ipython",
    "version": 3
   },
   "file_extension": ".py",
   "mimetype": "text/x-python",
   "name": "python",
   "nbconvert_exporter": "python",
   "pygments_lexer": "ipython3",
   "version": "3.9.1"
  }
 },
 "nbformat": 4,
 "nbformat_minor": 4
}
